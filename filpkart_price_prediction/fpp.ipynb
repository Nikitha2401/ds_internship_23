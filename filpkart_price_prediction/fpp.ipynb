{
 "cells": [
  {
   "cell_type": "code",
   "execution_count": 1,
   "id": "24a5fadb",
   "metadata": {},
   "outputs": [],
   "source": [
    "import pandas as pd\n",
    "import numpy as np\n",
    "import re\n",
    "import warnings \n",
    "warnings.filterwarnings('ignore') "
   ]
  },
  {
   "cell_type": "code",
   "execution_count": 2,
   "id": "35bddba1",
   "metadata": {},
   "outputs": [
    {
     "data": {
      "text/html": [
       "<div>\n",
       "<style scoped>\n",
       "    .dataframe tbody tr th:only-of-type {\n",
       "        vertical-align: middle;\n",
       "    }\n",
       "\n",
       "    .dataframe tbody tr th {\n",
       "        vertical-align: top;\n",
       "    }\n",
       "\n",
       "    .dataframe thead th {\n",
       "        text-align: right;\n",
       "    }\n",
       "</style>\n",
       "<table border=\"1\" class=\"dataframe\">\n",
       "  <thead>\n",
       "    <tr style=\"text-align: right;\">\n",
       "      <th></th>\n",
       "      <th>Product</th>\n",
       "      <th>Rating</th>\n",
       "      <th>MRP</th>\n",
       "      <th>Feature</th>\n",
       "    </tr>\n",
       "  </thead>\n",
       "  <tbody>\n",
       "    <tr>\n",
       "      <th>0</th>\n",
       "      <td>Lenovo IdeaPad 3 Core i3 11th Gen - (8 GB/256 ...</td>\n",
       "      <td>4.2</td>\n",
       "      <td>₹36,990</td>\n",
       "      <td>Intel Core i3 Processor (11th Gen)8 GB DDR4 RA...</td>\n",
       "    </tr>\n",
       "    <tr>\n",
       "      <th>1</th>\n",
       "      <td>Lenovo IdeaPad 3 Core i3 11th Gen - (8 GB/512 ...</td>\n",
       "      <td>4.2</td>\n",
       "      <td>₹39,990</td>\n",
       "      <td>Intel Core i3 Processor (11th Gen)8 GB DDR4 RA...</td>\n",
       "    </tr>\n",
       "    <tr>\n",
       "      <th>2</th>\n",
       "      <td>ASUS VivoBook 15 (2022) Core i3 10th Gen - (8 ...</td>\n",
       "      <td>4.3</td>\n",
       "      <td>₹32,990</td>\n",
       "      <td>Intel Core i3 Processor (10th Gen)8 GB DDR4 RA...</td>\n",
       "    </tr>\n",
       "    <tr>\n",
       "      <th>3</th>\n",
       "      <td>HP Pavilion Ryzen 5 Hexa Core AMD R5-5600H - (...</td>\n",
       "      <td>4.4</td>\n",
       "      <td>₹49,990</td>\n",
       "      <td>AMD Ryzen 5 Hexa Core Processor8 GB DDR4 RAM64...</td>\n",
       "    </tr>\n",
       "    <tr>\n",
       "      <th>4</th>\n",
       "      <td>ASUS TUF Gaming F15 Core i5 10th Gen - (8 GB/5...</td>\n",
       "      <td>4.4</td>\n",
       "      <td>₹49,990</td>\n",
       "      <td>Intel Core i5 Processor (10th Gen)8 GB DDR4 RA...</td>\n",
       "    </tr>\n",
       "    <tr>\n",
       "      <th>...</th>\n",
       "      <td>...</td>\n",
       "      <td>...</td>\n",
       "      <td>...</td>\n",
       "      <td>...</td>\n",
       "    </tr>\n",
       "    <tr>\n",
       "      <th>715</th>\n",
       "      <td>ASUS Chromebook Flip Touch Celeron Dual Core -...</td>\n",
       "      <td>4.0</td>\n",
       "      <td>₹23,490</td>\n",
       "      <td>Intel Celeron Dual Core Processor4 GB LPDDR4 R...</td>\n",
       "    </tr>\n",
       "    <tr>\n",
       "      <th>716</th>\n",
       "      <td>Lenovo IdeaPad Gaming 3 Ryzen 7 Octa Core AMD ...</td>\n",
       "      <td>4.5</td>\n",
       "      <td>₹73,490</td>\n",
       "      <td>AMD Ryzen 7 Octa Core Processor8 GB DDR4 RAM64...</td>\n",
       "    </tr>\n",
       "    <tr>\n",
       "      <th>717</th>\n",
       "      <td>ASUS ROG Zephyrus G15 Ryzen 9 Octa Core 6900HS...</td>\n",
       "      <td>NaN</td>\n",
       "      <td>₹1,94,990</td>\n",
       "      <td>AMD Ryzen 9 Octa Core Processor16 GB DDR5 RAM6...</td>\n",
       "    </tr>\n",
       "    <tr>\n",
       "      <th>718</th>\n",
       "      <td>ASUS Zenbook Flip 14 OLED (2022) Touch Panel C...</td>\n",
       "      <td>3.0</td>\n",
       "      <td>₹1,25,990</td>\n",
       "      <td>Intel Core i7 Processor (12th Gen)16 GB LPDDR5...</td>\n",
       "    </tr>\n",
       "    <tr>\n",
       "      <th>719</th>\n",
       "      <td>Lenovo Ideapad Slim 3i Core i5 10th Gen - (8 G...</td>\n",
       "      <td>4.2</td>\n",
       "      <td>₹50,990</td>\n",
       "      <td>Intel Core i5 Processor (10th Gen)8 GB DDR4 RA...</td>\n",
       "    </tr>\n",
       "  </tbody>\n",
       "</table>\n",
       "<p>720 rows × 4 columns</p>\n",
       "</div>"
      ],
      "text/plain": [
       "                                               Product  Rating        MRP  \\\n",
       "0    Lenovo IdeaPad 3 Core i3 11th Gen - (8 GB/256 ...     4.2    ₹36,990   \n",
       "1    Lenovo IdeaPad 3 Core i3 11th Gen - (8 GB/512 ...     4.2    ₹39,990   \n",
       "2    ASUS VivoBook 15 (2022) Core i3 10th Gen - (8 ...     4.3    ₹32,990   \n",
       "3    HP Pavilion Ryzen 5 Hexa Core AMD R5-5600H - (...     4.4    ₹49,990   \n",
       "4    ASUS TUF Gaming F15 Core i5 10th Gen - (8 GB/5...     4.4    ₹49,990   \n",
       "..                                                 ...     ...        ...   \n",
       "715  ASUS Chromebook Flip Touch Celeron Dual Core -...     4.0    ₹23,490   \n",
       "716  Lenovo IdeaPad Gaming 3 Ryzen 7 Octa Core AMD ...     4.5    ₹73,490   \n",
       "717  ASUS ROG Zephyrus G15 Ryzen 9 Octa Core 6900HS...     NaN  ₹1,94,990   \n",
       "718  ASUS Zenbook Flip 14 OLED (2022) Touch Panel C...     3.0  ₹1,25,990   \n",
       "719  Lenovo Ideapad Slim 3i Core i5 10th Gen - (8 G...     4.2    ₹50,990   \n",
       "\n",
       "                                               Feature  \n",
       "0    Intel Core i3 Processor (11th Gen)8 GB DDR4 RA...  \n",
       "1    Intel Core i3 Processor (11th Gen)8 GB DDR4 RA...  \n",
       "2    Intel Core i3 Processor (10th Gen)8 GB DDR4 RA...  \n",
       "3    AMD Ryzen 5 Hexa Core Processor8 GB DDR4 RAM64...  \n",
       "4    Intel Core i5 Processor (10th Gen)8 GB DDR4 RA...  \n",
       "..                                                 ...  \n",
       "715  Intel Celeron Dual Core Processor4 GB LPDDR4 R...  \n",
       "716  AMD Ryzen 7 Octa Core Processor8 GB DDR4 RAM64...  \n",
       "717  AMD Ryzen 9 Octa Core Processor16 GB DDR5 RAM6...  \n",
       "718  Intel Core i7 Processor (12th Gen)16 GB LPDDR5...  \n",
       "719  Intel Core i5 Processor (10th Gen)8 GB DDR4 RA...  \n",
       "\n",
       "[720 rows x 4 columns]"
      ]
     },
     "execution_count": 2,
     "metadata": {},
     "output_type": "execute_result"
    }
   ],
   "source": [
    "df=pd.read_csv(r'D:\\laptop_details.csv')\n",
    "df"
   ]
  },
  {
   "cell_type": "code",
   "execution_count": 3,
   "id": "7324f107",
   "metadata": {},
   "outputs": [],
   "source": [
    "df['brand'] = df['Product'].str.split(' ', 1).str[0]\n",
    "df['model'] = df['Product'].str.split(' ', 2).str[1]\n",
    "df['processor_type'] = df['Feature'].str.extract('(\\w+ \\w+ \\w+) Processor')"
   ]
  },
  {
   "cell_type": "code",
   "execution_count": 4,
   "id": "8d6fa558",
   "metadata": {},
   "outputs": [],
   "source": [
    "df['storage'] = df['Feature'].str.extract('(\\d+ GB|\\d+ TB) SSD|TB|HDD')\n",
    "# df.storage = df.storage.apply(lambda x: ''.join(x))"
   ]
  },
  {
   "cell_type": "code",
   "execution_count": 5,
   "id": "7a37bbe5",
   "metadata": {},
   "outputs": [],
   "source": [
    "df['display_size'] = df['Feature'].str.extract((r'(\\d+\\.\\d+) cm'))\n",
    "df['warranty'] = df['Feature'].str.extract('(\\d+ Year.*Warranty)')"
   ]
  },
  {
   "cell_type": "code",
   "execution_count": 6,
   "id": "05f1606a",
   "metadata": {},
   "outputs": [],
   "source": [
    "regex = r'(?:Windows|Chrome|Mac|Dos)[\\s\\w]+Operating System'\n",
    "fun = lambda x : re.findall(regex, x, re.IGNORECASE)\n",
    "df[\"os\"] = df.Feature.apply(fun)"
   ]
  },
  {
   "cell_type": "code",
   "execution_count": 7,
   "id": "98212407",
   "metadata": {},
   "outputs": [],
   "source": [
    "df.os = df.os.apply(lambda x: ''.join(x))"
   ]
  },
  {
   "cell_type": "code",
   "execution_count": 8,
   "id": "03121782",
   "metadata": {},
   "outputs": [],
   "source": [
    "df['ram'] = df['Feature'].str.extract('(\\d+ GB)')\n",
    "df.ram = df.ram.apply(lambda x: ''.join(x))"
   ]
  },
  {
   "cell_type": "code",
   "execution_count": 9,
   "id": "af13b538",
   "metadata": {},
   "outputs": [],
   "source": [
    "df['MRP']=df['MRP'].str.replace('₹',\"\").str.replace(',','')"
   ]
  },
  {
   "cell_type": "code",
   "execution_count": 10,
   "id": "5b2d31b8",
   "metadata": {},
   "outputs": [
    {
     "data": {
      "text/html": [
       "<div>\n",
       "<style scoped>\n",
       "    .dataframe tbody tr th:only-of-type {\n",
       "        vertical-align: middle;\n",
       "    }\n",
       "\n",
       "    .dataframe tbody tr th {\n",
       "        vertical-align: top;\n",
       "    }\n",
       "\n",
       "    .dataframe thead th {\n",
       "        text-align: right;\n",
       "    }\n",
       "</style>\n",
       "<table border=\"1\" class=\"dataframe\">\n",
       "  <thead>\n",
       "    <tr style=\"text-align: right;\">\n",
       "      <th></th>\n",
       "      <th>Product</th>\n",
       "      <th>Rating</th>\n",
       "      <th>MRP</th>\n",
       "      <th>Feature</th>\n",
       "      <th>brand</th>\n",
       "      <th>model</th>\n",
       "      <th>processor_type</th>\n",
       "      <th>storage</th>\n",
       "      <th>display_size</th>\n",
       "      <th>warranty</th>\n",
       "      <th>os</th>\n",
       "      <th>ram</th>\n",
       "    </tr>\n",
       "  </thead>\n",
       "  <tbody>\n",
       "    <tr>\n",
       "      <th>0</th>\n",
       "      <td>Lenovo IdeaPad 3 Core i3 11th Gen - (8 GB/256 ...</td>\n",
       "      <td>4.2</td>\n",
       "      <td>36990</td>\n",
       "      <td>Intel Core i3 Processor (11th Gen)8 GB DDR4 RA...</td>\n",
       "      <td>Lenovo</td>\n",
       "      <td>IdeaPad</td>\n",
       "      <td>Intel Core i3</td>\n",
       "      <td>256 GB</td>\n",
       "      <td>35.56</td>\n",
       "      <td>20212 Year Onsite�Warranty</td>\n",
       "      <td>Windows 11 Operating System</td>\n",
       "      <td>8 GB</td>\n",
       "    </tr>\n",
       "    <tr>\n",
       "      <th>1</th>\n",
       "      <td>Lenovo IdeaPad 3 Core i3 11th Gen - (8 GB/512 ...</td>\n",
       "      <td>4.2</td>\n",
       "      <td>39990</td>\n",
       "      <td>Intel Core i3 Processor (11th Gen)8 GB DDR4 RA...</td>\n",
       "      <td>Lenovo</td>\n",
       "      <td>IdeaPad</td>\n",
       "      <td>Intel Core i3</td>\n",
       "      <td>512 GB</td>\n",
       "      <td>39.62</td>\n",
       "      <td>20212 Year Onsite�Warranty</td>\n",
       "      <td>Windows 11 Operating System</td>\n",
       "      <td>8 GB</td>\n",
       "    </tr>\n",
       "    <tr>\n",
       "      <th>2</th>\n",
       "      <td>ASUS VivoBook 15 (2022) Core i3 10th Gen - (8 ...</td>\n",
       "      <td>4.3</td>\n",
       "      <td>32990</td>\n",
       "      <td>Intel Core i3 Processor (10th Gen)8 GB DDR4 RA...</td>\n",
       "      <td>ASUS</td>\n",
       "      <td>VivoBook</td>\n",
       "      <td>Intel Core i3</td>\n",
       "      <td>512 GB</td>\n",
       "      <td>39.62</td>\n",
       "      <td>20211 Year Onsite Warranty</td>\n",
       "      <td>Windows 11 Operating System</td>\n",
       "      <td>8 GB</td>\n",
       "    </tr>\n",
       "    <tr>\n",
       "      <th>3</th>\n",
       "      <td>HP Pavilion Ryzen 5 Hexa Core AMD R5-5600H - (...</td>\n",
       "      <td>4.4</td>\n",
       "      <td>49990</td>\n",
       "      <td>AMD Ryzen 5 Hexa Core Processor8 GB DDR4 RAM64...</td>\n",
       "      <td>HP</td>\n",
       "      <td>Pavilion</td>\n",
       "      <td>5 Hexa Core</td>\n",
       "      <td>512 GB</td>\n",
       "      <td>39.62</td>\n",
       "      <td>1 Year Onsite Warranty</td>\n",
       "      <td>Windows 10 Operating System</td>\n",
       "      <td>8 GB</td>\n",
       "    </tr>\n",
       "    <tr>\n",
       "      <th>4</th>\n",
       "      <td>ASUS TUF Gaming F15 Core i5 10th Gen - (8 GB/5...</td>\n",
       "      <td>4.4</td>\n",
       "      <td>49990</td>\n",
       "      <td>Intel Core i5 Processor (10th Gen)8 GB DDR4 RA...</td>\n",
       "      <td>ASUS</td>\n",
       "      <td>TUF</td>\n",
       "      <td>Intel Core i5</td>\n",
       "      <td>512 GB</td>\n",
       "      <td>39.62</td>\n",
       "      <td>1 Year Onsite Warranty</td>\n",
       "      <td>Windows 11 Operating System</td>\n",
       "      <td>8 GB</td>\n",
       "    </tr>\n",
       "  </tbody>\n",
       "</table>\n",
       "</div>"
      ],
      "text/plain": [
       "                                             Product  Rating    MRP  \\\n",
       "0  Lenovo IdeaPad 3 Core i3 11th Gen - (8 GB/256 ...     4.2  36990   \n",
       "1  Lenovo IdeaPad 3 Core i3 11th Gen - (8 GB/512 ...     4.2  39990   \n",
       "2  ASUS VivoBook 15 (2022) Core i3 10th Gen - (8 ...     4.3  32990   \n",
       "3  HP Pavilion Ryzen 5 Hexa Core AMD R5-5600H - (...     4.4  49990   \n",
       "4  ASUS TUF Gaming F15 Core i5 10th Gen - (8 GB/5...     4.4  49990   \n",
       "\n",
       "                                             Feature   brand     model  \\\n",
       "0  Intel Core i3 Processor (11th Gen)8 GB DDR4 RA...  Lenovo   IdeaPad   \n",
       "1  Intel Core i3 Processor (11th Gen)8 GB DDR4 RA...  Lenovo   IdeaPad   \n",
       "2  Intel Core i3 Processor (10th Gen)8 GB DDR4 RA...    ASUS  VivoBook   \n",
       "3  AMD Ryzen 5 Hexa Core Processor8 GB DDR4 RAM64...      HP  Pavilion   \n",
       "4  Intel Core i5 Processor (10th Gen)8 GB DDR4 RA...    ASUS       TUF   \n",
       "\n",
       "  processor_type storage display_size                    warranty  \\\n",
       "0  Intel Core i3  256 GB        35.56  20212 Year Onsite�Warranty   \n",
       "1  Intel Core i3  512 GB        39.62  20212 Year Onsite�Warranty   \n",
       "2  Intel Core i3  512 GB        39.62  20211 Year Onsite Warranty   \n",
       "3    5 Hexa Core  512 GB        39.62      1 Year Onsite Warranty   \n",
       "4  Intel Core i5  512 GB        39.62      1 Year Onsite Warranty   \n",
       "\n",
       "                            os   ram  \n",
       "0  Windows 11 Operating System  8 GB  \n",
       "1  Windows 11 Operating System  8 GB  \n",
       "2  Windows 11 Operating System  8 GB  \n",
       "3  Windows 10 Operating System  8 GB  \n",
       "4  Windows 11 Operating System  8 GB  "
      ]
     },
     "execution_count": 10,
     "metadata": {},
     "output_type": "execute_result"
    }
   ],
   "source": [
    "df.head()"
   ]
  },
  {
   "cell_type": "code",
   "execution_count": 11,
   "id": "2e17a645",
   "metadata": {},
   "outputs": [],
   "source": [
    "df.drop(['warranty','Rating','Feature','Product'], axis=1, inplace=True)"
   ]
  },
  {
   "cell_type": "code",
   "execution_count": 12,
   "id": "b816f71a",
   "metadata": {},
   "outputs": [
    {
     "data": {
      "text/html": [
       "<div>\n",
       "<style scoped>\n",
       "    .dataframe tbody tr th:only-of-type {\n",
       "        vertical-align: middle;\n",
       "    }\n",
       "\n",
       "    .dataframe tbody tr th {\n",
       "        vertical-align: top;\n",
       "    }\n",
       "\n",
       "    .dataframe thead th {\n",
       "        text-align: right;\n",
       "    }\n",
       "</style>\n",
       "<table border=\"1\" class=\"dataframe\">\n",
       "  <thead>\n",
       "    <tr style=\"text-align: right;\">\n",
       "      <th></th>\n",
       "      <th>MRP</th>\n",
       "      <th>brand</th>\n",
       "      <th>model</th>\n",
       "      <th>processor_type</th>\n",
       "      <th>storage</th>\n",
       "      <th>display_size</th>\n",
       "      <th>os</th>\n",
       "      <th>ram</th>\n",
       "    </tr>\n",
       "  </thead>\n",
       "  <tbody>\n",
       "    <tr>\n",
       "      <th>0</th>\n",
       "      <td>36990</td>\n",
       "      <td>Lenovo</td>\n",
       "      <td>IdeaPad</td>\n",
       "      <td>Intel Core i3</td>\n",
       "      <td>256 GB</td>\n",
       "      <td>35.56</td>\n",
       "      <td>Windows 11 Operating System</td>\n",
       "      <td>8 GB</td>\n",
       "    </tr>\n",
       "    <tr>\n",
       "      <th>1</th>\n",
       "      <td>39990</td>\n",
       "      <td>Lenovo</td>\n",
       "      <td>IdeaPad</td>\n",
       "      <td>Intel Core i3</td>\n",
       "      <td>512 GB</td>\n",
       "      <td>39.62</td>\n",
       "      <td>Windows 11 Operating System</td>\n",
       "      <td>8 GB</td>\n",
       "    </tr>\n",
       "    <tr>\n",
       "      <th>2</th>\n",
       "      <td>32990</td>\n",
       "      <td>ASUS</td>\n",
       "      <td>VivoBook</td>\n",
       "      <td>Intel Core i3</td>\n",
       "      <td>512 GB</td>\n",
       "      <td>39.62</td>\n",
       "      <td>Windows 11 Operating System</td>\n",
       "      <td>8 GB</td>\n",
       "    </tr>\n",
       "    <tr>\n",
       "      <th>3</th>\n",
       "      <td>49990</td>\n",
       "      <td>HP</td>\n",
       "      <td>Pavilion</td>\n",
       "      <td>5 Hexa Core</td>\n",
       "      <td>512 GB</td>\n",
       "      <td>39.62</td>\n",
       "      <td>Windows 10 Operating System</td>\n",
       "      <td>8 GB</td>\n",
       "    </tr>\n",
       "    <tr>\n",
       "      <th>4</th>\n",
       "      <td>49990</td>\n",
       "      <td>ASUS</td>\n",
       "      <td>TUF</td>\n",
       "      <td>Intel Core i5</td>\n",
       "      <td>512 GB</td>\n",
       "      <td>39.62</td>\n",
       "      <td>Windows 11 Operating System</td>\n",
       "      <td>8 GB</td>\n",
       "    </tr>\n",
       "  </tbody>\n",
       "</table>\n",
       "</div>"
      ],
      "text/plain": [
       "     MRP   brand     model processor_type storage display_size  \\\n",
       "0  36990  Lenovo   IdeaPad  Intel Core i3  256 GB        35.56   \n",
       "1  39990  Lenovo   IdeaPad  Intel Core i3  512 GB        39.62   \n",
       "2  32990    ASUS  VivoBook  Intel Core i3  512 GB        39.62   \n",
       "3  49990      HP  Pavilion    5 Hexa Core  512 GB        39.62   \n",
       "4  49990    ASUS       TUF  Intel Core i5  512 GB        39.62   \n",
       "\n",
       "                            os   ram  \n",
       "0  Windows 11 Operating System  8 GB  \n",
       "1  Windows 11 Operating System  8 GB  \n",
       "2  Windows 11 Operating System  8 GB  \n",
       "3  Windows 10 Operating System  8 GB  \n",
       "4  Windows 11 Operating System  8 GB  "
      ]
     },
     "execution_count": 12,
     "metadata": {},
     "output_type": "execute_result"
    }
   ],
   "source": [
    "df.head()"
   ]
  },
  {
   "cell_type": "code",
   "execution_count": 13,
   "id": "e8e19568",
   "metadata": {},
   "outputs": [],
   "source": [
    "df.rename(columns={\"brand\": \"Brand\",\"processor_type\":\"Processor\",\"Storage\":\"storage\",\"ram\":\"RAM\",\"os\":\"os\",\"MRP\":\"Price\",\"display_size\":\"screensize\"}, inplace=True)"
   ]
  },
  {
   "cell_type": "code",
   "execution_count": 14,
   "id": "4ced87af",
   "metadata": {},
   "outputs": [],
   "source": [
    "df= df.loc[:,['Brand','Processor','storage','RAM','screensize','os','Price']]"
   ]
  },
  {
   "cell_type": "code",
   "execution_count": 15,
   "id": "dda90be3",
   "metadata": {},
   "outputs": [
    {
     "data": {
      "text/plain": [
       "storage       56\n",
       "Processor     12\n",
       "Brand          0\n",
       "RAM            0\n",
       "screensize     0\n",
       "os             0\n",
       "Price          0\n",
       "dtype: int64"
      ]
     },
     "execution_count": 15,
     "metadata": {},
     "output_type": "execute_result"
    }
   ],
   "source": [
    "df.isnull().sum().sort_values(ascending=False)"
   ]
  },
  {
   "cell_type": "code",
   "execution_count": 16,
   "id": "a86cb2fa",
   "metadata": {},
   "outputs": [],
   "source": [
    "df.dropna(subset=['Processor','storage','os'], inplace=True)"
   ]
  },
  {
   "cell_type": "code",
   "execution_count": 17,
   "id": "9bd38ff4",
   "metadata": {},
   "outputs": [
    {
     "data": {
      "text/plain": [
       "Brand         0\n",
       "Processor     0\n",
       "storage       0\n",
       "RAM           0\n",
       "screensize    0\n",
       "os            0\n",
       "Price         0\n",
       "dtype: int64"
      ]
     },
     "execution_count": 17,
     "metadata": {},
     "output_type": "execute_result"
    }
   ],
   "source": [
    "df.isnull().sum()"
   ]
  },
  {
   "cell_type": "code",
   "execution_count": 18,
   "id": "d0b48011",
   "metadata": {},
   "outputs": [
    {
     "name": "stdout",
     "output_type": "stream",
     "text": [
      "<class 'pandas.core.frame.DataFrame'>\n",
      "Int64Index: 652 entries, 0 to 718\n",
      "Data columns (total 7 columns):\n",
      " #   Column      Non-Null Count  Dtype \n",
      "---  ------      --------------  ----- \n",
      " 0   Brand       652 non-null    object\n",
      " 1   Processor   652 non-null    object\n",
      " 2   storage     652 non-null    object\n",
      " 3   RAM         652 non-null    object\n",
      " 4   screensize  652 non-null    object\n",
      " 5   os          652 non-null    object\n",
      " 6   Price       652 non-null    object\n",
      "dtypes: object(7)\n",
      "memory usage: 40.8+ KB\n"
     ]
    }
   ],
   "source": [
    "df.info()"
   ]
  },
  {
   "cell_type": "code",
   "execution_count": 19,
   "id": "6eb6ed72",
   "metadata": {},
   "outputs": [
    {
     "data": {
      "text/html": [
       "<div>\n",
       "<style scoped>\n",
       "    .dataframe tbody tr th:only-of-type {\n",
       "        vertical-align: middle;\n",
       "    }\n",
       "\n",
       "    .dataframe tbody tr th {\n",
       "        vertical-align: top;\n",
       "    }\n",
       "\n",
       "    .dataframe thead th {\n",
       "        text-align: right;\n",
       "    }\n",
       "</style>\n",
       "<table border=\"1\" class=\"dataframe\">\n",
       "  <thead>\n",
       "    <tr style=\"text-align: right;\">\n",
       "      <th></th>\n",
       "      <th>Brand</th>\n",
       "      <th>Processor</th>\n",
       "      <th>storage</th>\n",
       "      <th>RAM</th>\n",
       "      <th>screensize</th>\n",
       "      <th>os</th>\n",
       "      <th>Price</th>\n",
       "    </tr>\n",
       "  </thead>\n",
       "  <tbody>\n",
       "    <tr>\n",
       "      <th>0</th>\n",
       "      <td>Lenovo</td>\n",
       "      <td>Intel Core i3</td>\n",
       "      <td>256 GB</td>\n",
       "      <td>8 GB</td>\n",
       "      <td>35.56</td>\n",
       "      <td>Windows 11 Operating System</td>\n",
       "      <td>36990</td>\n",
       "    </tr>\n",
       "    <tr>\n",
       "      <th>1</th>\n",
       "      <td>Lenovo</td>\n",
       "      <td>Intel Core i3</td>\n",
       "      <td>512 GB</td>\n",
       "      <td>8 GB</td>\n",
       "      <td>39.62</td>\n",
       "      <td>Windows 11 Operating System</td>\n",
       "      <td>39990</td>\n",
       "    </tr>\n",
       "    <tr>\n",
       "      <th>2</th>\n",
       "      <td>ASUS</td>\n",
       "      <td>Intel Core i3</td>\n",
       "      <td>512 GB</td>\n",
       "      <td>8 GB</td>\n",
       "      <td>39.62</td>\n",
       "      <td>Windows 11 Operating System</td>\n",
       "      <td>32990</td>\n",
       "    </tr>\n",
       "    <tr>\n",
       "      <th>3</th>\n",
       "      <td>HP</td>\n",
       "      <td>5 Hexa Core</td>\n",
       "      <td>512 GB</td>\n",
       "      <td>8 GB</td>\n",
       "      <td>39.62</td>\n",
       "      <td>Windows 10 Operating System</td>\n",
       "      <td>49990</td>\n",
       "    </tr>\n",
       "    <tr>\n",
       "      <th>4</th>\n",
       "      <td>ASUS</td>\n",
       "      <td>Intel Core i5</td>\n",
       "      <td>512 GB</td>\n",
       "      <td>8 GB</td>\n",
       "      <td>39.62</td>\n",
       "      <td>Windows 11 Operating System</td>\n",
       "      <td>49990</td>\n",
       "    </tr>\n",
       "  </tbody>\n",
       "</table>\n",
       "</div>"
      ],
      "text/plain": [
       "    Brand      Processor storage   RAM screensize  \\\n",
       "0  Lenovo  Intel Core i3  256 GB  8 GB      35.56   \n",
       "1  Lenovo  Intel Core i3  512 GB  8 GB      39.62   \n",
       "2    ASUS  Intel Core i3  512 GB  8 GB      39.62   \n",
       "3      HP    5 Hexa Core  512 GB  8 GB      39.62   \n",
       "4    ASUS  Intel Core i5  512 GB  8 GB      39.62   \n",
       "\n",
       "                            os  Price  \n",
       "0  Windows 11 Operating System  36990  \n",
       "1  Windows 11 Operating System  39990  \n",
       "2  Windows 11 Operating System  32990  \n",
       "3  Windows 10 Operating System  49990  \n",
       "4  Windows 11 Operating System  49990  "
      ]
     },
     "execution_count": 19,
     "metadata": {},
     "output_type": "execute_result"
    }
   ],
   "source": [
    "df.head()"
   ]
  },
  {
   "cell_type": "code",
   "execution_count": 20,
   "id": "860b79fe",
   "metadata": {},
   "outputs": [],
   "source": [
    "df.Processor = df.Processor.apply(lambda x: ''.join(x))\n",
    "df.Brand = df.Brand.apply(lambda x: ''.join(x))"
   ]
  },
  {
   "cell_type": "code",
   "execution_count": 21,
   "id": "be17f6bb",
   "metadata": {},
   "outputs": [],
   "source": [
    "df['Price'] = df['Price'].astype(float)"
   ]
  },
  {
   "cell_type": "code",
   "execution_count": 22,
   "id": "ad456c59",
   "metadata": {},
   "outputs": [
    {
     "name": "stdout",
     "output_type": "stream",
     "text": [
      "<class 'pandas.core.frame.DataFrame'>\n",
      "Int64Index: 652 entries, 0 to 718\n",
      "Data columns (total 7 columns):\n",
      " #   Column      Non-Null Count  Dtype  \n",
      "---  ------      --------------  -----  \n",
      " 0   Brand       652 non-null    object \n",
      " 1   Processor   652 non-null    object \n",
      " 2   storage     652 non-null    object \n",
      " 3   RAM         652 non-null    object \n",
      " 4   screensize  652 non-null    object \n",
      " 5   os          652 non-null    object \n",
      " 6   Price       652 non-null    float64\n",
      "dtypes: float64(1), object(6)\n",
      "memory usage: 40.8+ KB\n"
     ]
    }
   ],
   "source": [
    "df.info()"
   ]
  },
  {
   "cell_type": "code",
   "execution_count": 23,
   "id": "9ab6044b",
   "metadata": {},
   "outputs": [
    {
     "data": {
      "text/plain": [
       "array(['Lenovo', 'ASUS', 'HP', 'RedmiBook', 'realme', 'acer', 'MSI',\n",
       "       'DELL', 'Infinix', 'APPLE', 'Ultimus', 'SAMSUNG', 'Vaio',\n",
       "       'GIGABYTE', 'Nokia', 'ALIENWARE'], dtype=object)"
      ]
     },
     "execution_count": 23,
     "metadata": {},
     "output_type": "execute_result"
    }
   ],
   "source": [
    "df.Brand.unique()"
   ]
  },
  {
   "cell_type": "code",
   "execution_count": 24,
   "id": "07f11d0d",
   "metadata": {},
   "outputs": [
    {
     "data": {
      "text/plain": [
       "array(['Intel Core i3', '5 Hexa Core', 'Intel Core i5',\n",
       "       'DriveIntel Core i3', '7 Quad Core', '5 Quad Core', '9 Octa Core',\n",
       "       '7 Octa Core', '3 Dual Core', 'Athlon Dual Core', 'Evo Core i5',\n",
       "       'availableIntel Core i5', '3 Quad Core', 'Celeron Dual Core',\n",
       "       'Celeron Quad Core', 'Intel Core i7', 'Apple M1 Pro',\n",
       "       'BluetoothIntel Pentium Silver', 'Apple M1 Max', 'Intel Core i9',\n",
       "       'OSIntel Core i7', 'Intel Pentium Silver', '1Intel Core i3',\n",
       "       '5 Dual Core', 'CenterIntel Core i5', 'ReaderIntel Core i5',\n",
       "       'GbEIntel Core i3', 'Pentium Quad Core',\n",
       "       'PerformanceIntel Core i5', 'micIntel Core i7', '3 Hexa Core',\n",
       "       'settingsIntel Core i9', 'TiIntel Core i7', 'KeypadIntel Core i5',\n",
       "       'settingsIntel Core i7'], dtype=object)"
      ]
     },
     "execution_count": 24,
     "metadata": {},
     "output_type": "execute_result"
    }
   ],
   "source": [
    "df.Processor.unique() "
   ]
  },
  {
   "cell_type": "code",
   "execution_count": 26,
   "id": "48d1b629",
   "metadata": {},
   "outputs": [
    {
     "data": {
      "text/html": [
       "<div>\n",
       "<style scoped>\n",
       "    .dataframe tbody tr th:only-of-type {\n",
       "        vertical-align: middle;\n",
       "    }\n",
       "\n",
       "    .dataframe tbody tr th {\n",
       "        vertical-align: top;\n",
       "    }\n",
       "\n",
       "    .dataframe thead th {\n",
       "        text-align: right;\n",
       "    }\n",
       "</style>\n",
       "<table border=\"1\" class=\"dataframe\">\n",
       "  <thead>\n",
       "    <tr style=\"text-align: right;\">\n",
       "      <th></th>\n",
       "      <th>Brand</th>\n",
       "      <th>Processor</th>\n",
       "      <th>storage</th>\n",
       "      <th>RAM</th>\n",
       "      <th>screensize</th>\n",
       "    </tr>\n",
       "  </thead>\n",
       "  <tbody>\n",
       "    <tr>\n",
       "      <th>0</th>\n",
       "      <td>Lenovo</td>\n",
       "      <td>Intel Core i3</td>\n",
       "      <td>256 GB</td>\n",
       "      <td>8 GB</td>\n",
       "      <td>35.56</td>\n",
       "    </tr>\n",
       "    <tr>\n",
       "      <th>1</th>\n",
       "      <td>Lenovo</td>\n",
       "      <td>Intel Core i3</td>\n",
       "      <td>512 GB</td>\n",
       "      <td>8 GB</td>\n",
       "      <td>39.62</td>\n",
       "    </tr>\n",
       "    <tr>\n",
       "      <th>2</th>\n",
       "      <td>ASUS</td>\n",
       "      <td>Intel Core i3</td>\n",
       "      <td>512 GB</td>\n",
       "      <td>8 GB</td>\n",
       "      <td>39.62</td>\n",
       "    </tr>\n",
       "    <tr>\n",
       "      <th>3</th>\n",
       "      <td>HP</td>\n",
       "      <td>5 Hexa Core</td>\n",
       "      <td>512 GB</td>\n",
       "      <td>8 GB</td>\n",
       "      <td>39.62</td>\n",
       "    </tr>\n",
       "    <tr>\n",
       "      <th>4</th>\n",
       "      <td>ASUS</td>\n",
       "      <td>Intel Core i5</td>\n",
       "      <td>512 GB</td>\n",
       "      <td>8 GB</td>\n",
       "      <td>39.62</td>\n",
       "    </tr>\n",
       "    <tr>\n",
       "      <th>...</th>\n",
       "      <td>...</td>\n",
       "      <td>...</td>\n",
       "      <td>...</td>\n",
       "      <td>...</td>\n",
       "      <td>...</td>\n",
       "    </tr>\n",
       "    <tr>\n",
       "      <th>713</th>\n",
       "      <td>DELL</td>\n",
       "      <td>Intel Core i5</td>\n",
       "      <td>512 GB</td>\n",
       "      <td>16 GB</td>\n",
       "      <td>33.78</td>\n",
       "    </tr>\n",
       "    <tr>\n",
       "      <th>714</th>\n",
       "      <td>HP</td>\n",
       "      <td>7 Octa Core</td>\n",
       "      <td>512 GB</td>\n",
       "      <td>16 GB</td>\n",
       "      <td>39.62</td>\n",
       "    </tr>\n",
       "    <tr>\n",
       "      <th>716</th>\n",
       "      <td>Lenovo</td>\n",
       "      <td>7 Octa Core</td>\n",
       "      <td>512 GB</td>\n",
       "      <td>8 GB</td>\n",
       "      <td>39.62</td>\n",
       "    </tr>\n",
       "    <tr>\n",
       "      <th>717</th>\n",
       "      <td>ASUS</td>\n",
       "      <td>9 Octa Core</td>\n",
       "      <td>1 TB</td>\n",
       "      <td>16 GB</td>\n",
       "      <td>39.62</td>\n",
       "    </tr>\n",
       "    <tr>\n",
       "      <th>718</th>\n",
       "      <td>ASUS</td>\n",
       "      <td>Intel Core i7</td>\n",
       "      <td>512 GB</td>\n",
       "      <td>16 GB</td>\n",
       "      <td>35.56</td>\n",
       "    </tr>\n",
       "  </tbody>\n",
       "</table>\n",
       "<p>652 rows × 5 columns</p>\n",
       "</div>"
      ],
      "text/plain": [
       "      Brand      Processor storage    RAM screensize\n",
       "0    Lenovo  Intel Core i3  256 GB   8 GB      35.56\n",
       "1    Lenovo  Intel Core i3  512 GB   8 GB      39.62\n",
       "2      ASUS  Intel Core i3  512 GB   8 GB      39.62\n",
       "3        HP    5 Hexa Core  512 GB   8 GB      39.62\n",
       "4      ASUS  Intel Core i5  512 GB   8 GB      39.62\n",
       "..      ...            ...     ...    ...        ...\n",
       "713    DELL  Intel Core i5  512 GB  16 GB      33.78\n",
       "714      HP    7 Octa Core  512 GB  16 GB      39.62\n",
       "716  Lenovo    7 Octa Core  512 GB   8 GB      39.62\n",
       "717    ASUS    9 Octa Core    1 TB  16 GB      39.62\n",
       "718    ASUS  Intel Core i7  512 GB  16 GB      35.56\n",
       "\n",
       "[652 rows x 5 columns]"
      ]
     },
     "execution_count": 26,
     "metadata": {},
     "output_type": "execute_result"
    }
   ],
   "source": [
    "f= df[['Brand','Processor','storage','RAM','screensize']]\n",
    "f "
   ]
  },
  {
   "cell_type": "code",
   "execution_count": 27,
   "id": "324efccb",
   "metadata": {},
   "outputs": [
    {
     "data": {
      "text/plain": [
       "0      10.518403\n",
       "1      10.596385\n",
       "2      10.403960\n",
       "3      10.819578\n",
       "4      10.819578\n",
       "         ...    \n",
       "713    11.246222\n",
       "714    11.407565\n",
       "716    11.204905\n",
       "717    12.180704\n",
       "718    11.743958\n",
       "Name: Price, Length: 652, dtype: float64"
      ]
     },
     "execution_count": 27,
     "metadata": {},
     "output_type": "execute_result"
    }
   ],
   "source": [
    "y = np.log(df['Price'])\n",
    "y"
   ]
  },
  {
   "cell_type": "code",
   "execution_count": 28,
   "id": "2d8da3b9",
   "metadata": {},
   "outputs": [],
   "source": [
    "from sklearn.preprocessing import LabelEncoder, OneHotEncoder\n",
    "from sklearn.compose import ColumnTransformer\n",
    "from sklearn.model_selection import train_test_split\n",
    "from sklearn.ensemble import RandomForestRegressor\n",
    "from sklearn.metrics import mean_squared_error\n",
    "from sklearn.pipeline import Pipeline"
   ]
  },
  {
   "cell_type": "code",
   "execution_count": 29,
   "id": "997cf7a2",
   "metadata": {},
   "outputs": [],
   "source": [
    "X_train, X_test, y_train, y_test = train_test_split(f, y, test_size=0.2, random_state=47)"
   ]
  },
  {
   "cell_type": "code",
   "execution_count": 30,
   "id": "ea4491ba",
   "metadata": {},
   "outputs": [
    {
     "data": {
      "text/plain": [
       "(521, 5)"
      ]
     },
     "execution_count": 30,
     "metadata": {},
     "output_type": "execute_result"
    }
   ],
   "source": [
    "X_train.shape"
   ]
  },
  {
   "cell_type": "code",
   "execution_count": 31,
   "id": "39e75cb7",
   "metadata": {},
   "outputs": [
    {
     "data": {
      "text/html": [
       "<div>\n",
       "<style scoped>\n",
       "    .dataframe tbody tr th:only-of-type {\n",
       "        vertical-align: middle;\n",
       "    }\n",
       "\n",
       "    .dataframe tbody tr th {\n",
       "        vertical-align: top;\n",
       "    }\n",
       "\n",
       "    .dataframe thead th {\n",
       "        text-align: right;\n",
       "    }\n",
       "</style>\n",
       "<table border=\"1\" class=\"dataframe\">\n",
       "  <thead>\n",
       "    <tr style=\"text-align: right;\">\n",
       "      <th></th>\n",
       "      <th>Brand</th>\n",
       "      <th>Processor</th>\n",
       "      <th>storage</th>\n",
       "      <th>RAM</th>\n",
       "      <th>screensize</th>\n",
       "    </tr>\n",
       "  </thead>\n",
       "  <tbody>\n",
       "    <tr>\n",
       "      <th>208</th>\n",
       "      <td>SAMSUNG</td>\n",
       "      <td>Intel Core i5</td>\n",
       "      <td>256 GB</td>\n",
       "      <td>8 GB</td>\n",
       "      <td>39.62</td>\n",
       "    </tr>\n",
       "    <tr>\n",
       "      <th>517</th>\n",
       "      <td>Lenovo</td>\n",
       "      <td>3 Dual Core</td>\n",
       "      <td>512 GB</td>\n",
       "      <td>8 GB</td>\n",
       "      <td>39.62</td>\n",
       "    </tr>\n",
       "    <tr>\n",
       "      <th>133</th>\n",
       "      <td>HP</td>\n",
       "      <td>Intel Core i5</td>\n",
       "      <td>512 GB</td>\n",
       "      <td>16 GB</td>\n",
       "      <td>35.56</td>\n",
       "    </tr>\n",
       "    <tr>\n",
       "      <th>47</th>\n",
       "      <td>Lenovo</td>\n",
       "      <td>5 Hexa Core</td>\n",
       "      <td>512 GB</td>\n",
       "      <td>8 GB</td>\n",
       "      <td>39.62</td>\n",
       "    </tr>\n",
       "    <tr>\n",
       "      <th>513</th>\n",
       "      <td>HP</td>\n",
       "      <td>7 Octa Core</td>\n",
       "      <td>1 TB</td>\n",
       "      <td>16 GB</td>\n",
       "      <td>39.62</td>\n",
       "    </tr>\n",
       "    <tr>\n",
       "      <th>...</th>\n",
       "      <td>...</td>\n",
       "      <td>...</td>\n",
       "      <td>...</td>\n",
       "      <td>...</td>\n",
       "      <td>...</td>\n",
       "    </tr>\n",
       "    <tr>\n",
       "      <th>42</th>\n",
       "      <td>acer</td>\n",
       "      <td>5 Hexa Core</td>\n",
       "      <td>512 GB</td>\n",
       "      <td>16 GB</td>\n",
       "      <td>39.62</td>\n",
       "    </tr>\n",
       "    <tr>\n",
       "      <th>436</th>\n",
       "      <td>Lenovo</td>\n",
       "      <td>Intel Core i3</td>\n",
       "      <td>256 GB</td>\n",
       "      <td>8 GB</td>\n",
       "      <td>35.56</td>\n",
       "    </tr>\n",
       "    <tr>\n",
       "      <th>705</th>\n",
       "      <td>ASUS</td>\n",
       "      <td>7 Octa Core</td>\n",
       "      <td>1 TB</td>\n",
       "      <td>16 GB</td>\n",
       "      <td>40.64</td>\n",
       "    </tr>\n",
       "    <tr>\n",
       "      <th>1</th>\n",
       "      <td>Lenovo</td>\n",
       "      <td>Intel Core i3</td>\n",
       "      <td>512 GB</td>\n",
       "      <td>8 GB</td>\n",
       "      <td>39.62</td>\n",
       "    </tr>\n",
       "    <tr>\n",
       "      <th>128</th>\n",
       "      <td>ASUS</td>\n",
       "      <td>Intel Core i3</td>\n",
       "      <td>512 GB</td>\n",
       "      <td>8 GB</td>\n",
       "      <td>39.62</td>\n",
       "    </tr>\n",
       "  </tbody>\n",
       "</table>\n",
       "<p>131 rows × 5 columns</p>\n",
       "</div>"
      ],
      "text/plain": [
       "       Brand      Processor storage    RAM screensize\n",
       "208  SAMSUNG  Intel Core i5  256 GB   8 GB      39.62\n",
       "517   Lenovo    3 Dual Core  512 GB   8 GB      39.62\n",
       "133       HP  Intel Core i5  512 GB  16 GB      35.56\n",
       "47    Lenovo    5 Hexa Core  512 GB   8 GB      39.62\n",
       "513       HP    7 Octa Core    1 TB  16 GB      39.62\n",
       "..       ...            ...     ...    ...        ...\n",
       "42      acer    5 Hexa Core  512 GB  16 GB      39.62\n",
       "436   Lenovo  Intel Core i3  256 GB   8 GB      35.56\n",
       "705     ASUS    7 Octa Core    1 TB  16 GB      40.64\n",
       "1     Lenovo  Intel Core i3  512 GB   8 GB      39.62\n",
       "128     ASUS  Intel Core i3  512 GB   8 GB      39.62\n",
       "\n",
       "[131 rows x 5 columns]"
      ]
     },
     "execution_count": 31,
     "metadata": {},
     "output_type": "execute_result"
    }
   ],
   "source": [
    "X_test"
   ]
  },
  {
   "cell_type": "code",
   "execution_count": 32,
   "id": "b3b271e5",
   "metadata": {},
   "outputs": [
    {
     "data": {
      "text/plain": [
       "(521,)"
      ]
     },
     "execution_count": 32,
     "metadata": {},
     "output_type": "execute_result"
    }
   ],
   "source": [
    "y_train.shape"
   ]
  },
  {
   "cell_type": "code",
   "execution_count": 33,
   "id": "da052fa2",
   "metadata": {},
   "outputs": [
    {
     "data": {
      "text/plain": [
       "(131,)"
      ]
     },
     "execution_count": 33,
     "metadata": {},
     "output_type": "execute_result"
    }
   ],
   "source": [
    "y_test.shape"
   ]
  },
  {
   "cell_type": "code",
   "execution_count": 34,
   "id": "aa91762f",
   "metadata": {},
   "outputs": [],
   "source": [
    "# to handling the catagorical columns\n",
    "step1 = ColumnTransformer(transformers=[\n",
    "    ('encoder',OneHotEncoder(handle_unknown='ignore',sparse=False,drop='first'),[0,1,2,3,4])\n",
    "],remainder='passthrough')\n",
    "\n",
    "step2 = RandomForestRegressor(n_estimators=100,\n",
    "                              random_state=3,\n",
    "                              max_samples=0.5,\n",
    "                              max_features=0.75,\n",
    "                              max_depth=15)"
   ]
  },
  {
   "cell_type": "code",
   "execution_count": 35,
   "id": "1bd42a0e",
   "metadata": {},
   "outputs": [],
   "source": [
    "pipe = Pipeline([\n",
    "    ('step1',step1),\n",
    "    ('step2',step2)\n",
    "])\n"
   ]
  },
  {
   "cell_type": "code",
   "execution_count": 36,
   "id": "589f8b24",
   "metadata": {},
   "outputs": [
    {
     "data": {
      "text/html": [
       "<style>#sk-container-id-1 {color: black;background-color: white;}#sk-container-id-1 pre{padding: 0;}#sk-container-id-1 div.sk-toggleable {background-color: white;}#sk-container-id-1 label.sk-toggleable__label {cursor: pointer;display: block;width: 100%;margin-bottom: 0;padding: 0.3em;box-sizing: border-box;text-align: center;}#sk-container-id-1 label.sk-toggleable__label-arrow:before {content: \"▸\";float: left;margin-right: 0.25em;color: #696969;}#sk-container-id-1 label.sk-toggleable__label-arrow:hover:before {color: black;}#sk-container-id-1 div.sk-estimator:hover label.sk-toggleable__label-arrow:before {color: black;}#sk-container-id-1 div.sk-toggleable__content {max-height: 0;max-width: 0;overflow: hidden;text-align: left;background-color: #f0f8ff;}#sk-container-id-1 div.sk-toggleable__content pre {margin: 0.2em;color: black;border-radius: 0.25em;background-color: #f0f8ff;}#sk-container-id-1 input.sk-toggleable__control:checked~div.sk-toggleable__content {max-height: 200px;max-width: 100%;overflow: auto;}#sk-container-id-1 input.sk-toggleable__control:checked~label.sk-toggleable__label-arrow:before {content: \"▾\";}#sk-container-id-1 div.sk-estimator input.sk-toggleable__control:checked~label.sk-toggleable__label {background-color: #d4ebff;}#sk-container-id-1 div.sk-label input.sk-toggleable__control:checked~label.sk-toggleable__label {background-color: #d4ebff;}#sk-container-id-1 input.sk-hidden--visually {border: 0;clip: rect(1px 1px 1px 1px);clip: rect(1px, 1px, 1px, 1px);height: 1px;margin: -1px;overflow: hidden;padding: 0;position: absolute;width: 1px;}#sk-container-id-1 div.sk-estimator {font-family: monospace;background-color: #f0f8ff;border: 1px dotted black;border-radius: 0.25em;box-sizing: border-box;margin-bottom: 0.5em;}#sk-container-id-1 div.sk-estimator:hover {background-color: #d4ebff;}#sk-container-id-1 div.sk-parallel-item::after {content: \"\";width: 100%;border-bottom: 1px solid gray;flex-grow: 1;}#sk-container-id-1 div.sk-label:hover label.sk-toggleable__label {background-color: #d4ebff;}#sk-container-id-1 div.sk-serial::before {content: \"\";position: absolute;border-left: 1px solid gray;box-sizing: border-box;top: 0;bottom: 0;left: 50%;z-index: 0;}#sk-container-id-1 div.sk-serial {display: flex;flex-direction: column;align-items: center;background-color: white;padding-right: 0.2em;padding-left: 0.2em;position: relative;}#sk-container-id-1 div.sk-item {position: relative;z-index: 1;}#sk-container-id-1 div.sk-parallel {display: flex;align-items: stretch;justify-content: center;background-color: white;position: relative;}#sk-container-id-1 div.sk-item::before, #sk-container-id-1 div.sk-parallel-item::before {content: \"\";position: absolute;border-left: 1px solid gray;box-sizing: border-box;top: 0;bottom: 0;left: 50%;z-index: -1;}#sk-container-id-1 div.sk-parallel-item {display: flex;flex-direction: column;z-index: 1;position: relative;background-color: white;}#sk-container-id-1 div.sk-parallel-item:first-child::after {align-self: flex-end;width: 50%;}#sk-container-id-1 div.sk-parallel-item:last-child::after {align-self: flex-start;width: 50%;}#sk-container-id-1 div.sk-parallel-item:only-child::after {width: 0;}#sk-container-id-1 div.sk-dashed-wrapped {border: 1px dashed gray;margin: 0 0.4em 0.5em 0.4em;box-sizing: border-box;padding-bottom: 0.4em;background-color: white;}#sk-container-id-1 div.sk-label label {font-family: monospace;font-weight: bold;display: inline-block;line-height: 1.2em;}#sk-container-id-1 div.sk-label-container {text-align: center;}#sk-container-id-1 div.sk-container {/* jupyter's `normalize.less` sets `[hidden] { display: none; }` but bootstrap.min.css set `[hidden] { display: none !important; }` so we also need the `!important` here to be able to override the default hidden behavior on the sphinx rendered scikit-learn.org. See: https://github.com/scikit-learn/scikit-learn/issues/21755 */display: inline-block !important;position: relative;}#sk-container-id-1 div.sk-text-repr-fallback {display: none;}</style><div id=\"sk-container-id-1\" class=\"sk-top-container\"><div class=\"sk-text-repr-fallback\"><pre>Pipeline(steps=[(&#x27;step1&#x27;,\n",
       "                 ColumnTransformer(remainder=&#x27;passthrough&#x27;,\n",
       "                                   transformers=[(&#x27;encoder&#x27;,\n",
       "                                                  OneHotEncoder(drop=&#x27;first&#x27;,\n",
       "                                                                handle_unknown=&#x27;ignore&#x27;,\n",
       "                                                                sparse=False),\n",
       "                                                  [0, 1, 2, 3, 4])])),\n",
       "                (&#x27;step2&#x27;,\n",
       "                 RandomForestRegressor(max_depth=15, max_features=0.75,\n",
       "                                       max_samples=0.5, random_state=3))])</pre><b>In a Jupyter environment, please rerun this cell to show the HTML representation or trust the notebook. <br />On GitHub, the HTML representation is unable to render, please try loading this page with nbviewer.org.</b></div><div class=\"sk-container\" hidden><div class=\"sk-item sk-dashed-wrapped\"><div class=\"sk-label-container\"><div class=\"sk-label sk-toggleable\"><input class=\"sk-toggleable__control sk-hidden--visually\" id=\"sk-estimator-id-1\" type=\"checkbox\" ><label for=\"sk-estimator-id-1\" class=\"sk-toggleable__label sk-toggleable__label-arrow\">Pipeline</label><div class=\"sk-toggleable__content\"><pre>Pipeline(steps=[(&#x27;step1&#x27;,\n",
       "                 ColumnTransformer(remainder=&#x27;passthrough&#x27;,\n",
       "                                   transformers=[(&#x27;encoder&#x27;,\n",
       "                                                  OneHotEncoder(drop=&#x27;first&#x27;,\n",
       "                                                                handle_unknown=&#x27;ignore&#x27;,\n",
       "                                                                sparse=False),\n",
       "                                                  [0, 1, 2, 3, 4])])),\n",
       "                (&#x27;step2&#x27;,\n",
       "                 RandomForestRegressor(max_depth=15, max_features=0.75,\n",
       "                                       max_samples=0.5, random_state=3))])</pre></div></div></div><div class=\"sk-serial\"><div class=\"sk-item sk-dashed-wrapped\"><div class=\"sk-label-container\"><div class=\"sk-label sk-toggleable\"><input class=\"sk-toggleable__control sk-hidden--visually\" id=\"sk-estimator-id-2\" type=\"checkbox\" ><label for=\"sk-estimator-id-2\" class=\"sk-toggleable__label sk-toggleable__label-arrow\">step1: ColumnTransformer</label><div class=\"sk-toggleable__content\"><pre>ColumnTransformer(remainder=&#x27;passthrough&#x27;,\n",
       "                  transformers=[(&#x27;encoder&#x27;,\n",
       "                                 OneHotEncoder(drop=&#x27;first&#x27;,\n",
       "                                               handle_unknown=&#x27;ignore&#x27;,\n",
       "                                               sparse=False),\n",
       "                                 [0, 1, 2, 3, 4])])</pre></div></div></div><div class=\"sk-parallel\"><div class=\"sk-parallel-item\"><div class=\"sk-item\"><div class=\"sk-label-container\"><div class=\"sk-label sk-toggleable\"><input class=\"sk-toggleable__control sk-hidden--visually\" id=\"sk-estimator-id-3\" type=\"checkbox\" ><label for=\"sk-estimator-id-3\" class=\"sk-toggleable__label sk-toggleable__label-arrow\">encoder</label><div class=\"sk-toggleable__content\"><pre>[0, 1, 2, 3, 4]</pre></div></div></div><div class=\"sk-serial\"><div class=\"sk-item\"><div class=\"sk-estimator sk-toggleable\"><input class=\"sk-toggleable__control sk-hidden--visually\" id=\"sk-estimator-id-4\" type=\"checkbox\" ><label for=\"sk-estimator-id-4\" class=\"sk-toggleable__label sk-toggleable__label-arrow\">OneHotEncoder</label><div class=\"sk-toggleable__content\"><pre>OneHotEncoder(drop=&#x27;first&#x27;, handle_unknown=&#x27;ignore&#x27;, sparse=False)</pre></div></div></div></div></div></div><div class=\"sk-parallel-item\"><div class=\"sk-item\"><div class=\"sk-label-container\"><div class=\"sk-label sk-toggleable\"><input class=\"sk-toggleable__control sk-hidden--visually\" id=\"sk-estimator-id-5\" type=\"checkbox\" ><label for=\"sk-estimator-id-5\" class=\"sk-toggleable__label sk-toggleable__label-arrow\">remainder</label><div class=\"sk-toggleable__content\"><pre></pre></div></div></div><div class=\"sk-serial\"><div class=\"sk-item\"><div class=\"sk-estimator sk-toggleable\"><input class=\"sk-toggleable__control sk-hidden--visually\" id=\"sk-estimator-id-6\" type=\"checkbox\" ><label for=\"sk-estimator-id-6\" class=\"sk-toggleable__label sk-toggleable__label-arrow\">passthrough</label><div class=\"sk-toggleable__content\"><pre>passthrough</pre></div></div></div></div></div></div></div></div><div class=\"sk-item\"><div class=\"sk-estimator sk-toggleable\"><input class=\"sk-toggleable__control sk-hidden--visually\" id=\"sk-estimator-id-7\" type=\"checkbox\" ><label for=\"sk-estimator-id-7\" class=\"sk-toggleable__label sk-toggleable__label-arrow\">RandomForestRegressor</label><div class=\"sk-toggleable__content\"><pre>RandomForestRegressor(max_depth=15, max_features=0.75, max_samples=0.5,\n",
       "                      random_state=3)</pre></div></div></div></div></div></div></div>"
      ],
      "text/plain": [
       "Pipeline(steps=[('step1',\n",
       "                 ColumnTransformer(remainder='passthrough',\n",
       "                                   transformers=[('encoder',\n",
       "                                                  OneHotEncoder(drop='first',\n",
       "                                                                handle_unknown='ignore',\n",
       "                                                                sparse=False),\n",
       "                                                  [0, 1, 2, 3, 4])])),\n",
       "                ('step2',\n",
       "                 RandomForestRegressor(max_depth=15, max_features=0.75,\n",
       "                                       max_samples=0.5, random_state=3))])"
      ]
     },
     "execution_count": 36,
     "metadata": {},
     "output_type": "execute_result"
    }
   ],
   "source": [
    "pipe"
   ]
  },
  {
   "cell_type": "code",
   "execution_count": 37,
   "id": "432b1c77",
   "metadata": {},
   "outputs": [
    {
     "data": {
      "text/html": [
       "<style>#sk-container-id-2 {color: black;background-color: white;}#sk-container-id-2 pre{padding: 0;}#sk-container-id-2 div.sk-toggleable {background-color: white;}#sk-container-id-2 label.sk-toggleable__label {cursor: pointer;display: block;width: 100%;margin-bottom: 0;padding: 0.3em;box-sizing: border-box;text-align: center;}#sk-container-id-2 label.sk-toggleable__label-arrow:before {content: \"▸\";float: left;margin-right: 0.25em;color: #696969;}#sk-container-id-2 label.sk-toggleable__label-arrow:hover:before {color: black;}#sk-container-id-2 div.sk-estimator:hover label.sk-toggleable__label-arrow:before {color: black;}#sk-container-id-2 div.sk-toggleable__content {max-height: 0;max-width: 0;overflow: hidden;text-align: left;background-color: #f0f8ff;}#sk-container-id-2 div.sk-toggleable__content pre {margin: 0.2em;color: black;border-radius: 0.25em;background-color: #f0f8ff;}#sk-container-id-2 input.sk-toggleable__control:checked~div.sk-toggleable__content {max-height: 200px;max-width: 100%;overflow: auto;}#sk-container-id-2 input.sk-toggleable__control:checked~label.sk-toggleable__label-arrow:before {content: \"▾\";}#sk-container-id-2 div.sk-estimator input.sk-toggleable__control:checked~label.sk-toggleable__label {background-color: #d4ebff;}#sk-container-id-2 div.sk-label input.sk-toggleable__control:checked~label.sk-toggleable__label {background-color: #d4ebff;}#sk-container-id-2 input.sk-hidden--visually {border: 0;clip: rect(1px 1px 1px 1px);clip: rect(1px, 1px, 1px, 1px);height: 1px;margin: -1px;overflow: hidden;padding: 0;position: absolute;width: 1px;}#sk-container-id-2 div.sk-estimator {font-family: monospace;background-color: #f0f8ff;border: 1px dotted black;border-radius: 0.25em;box-sizing: border-box;margin-bottom: 0.5em;}#sk-container-id-2 div.sk-estimator:hover {background-color: #d4ebff;}#sk-container-id-2 div.sk-parallel-item::after {content: \"\";width: 100%;border-bottom: 1px solid gray;flex-grow: 1;}#sk-container-id-2 div.sk-label:hover label.sk-toggleable__label {background-color: #d4ebff;}#sk-container-id-2 div.sk-serial::before {content: \"\";position: absolute;border-left: 1px solid gray;box-sizing: border-box;top: 0;bottom: 0;left: 50%;z-index: 0;}#sk-container-id-2 div.sk-serial {display: flex;flex-direction: column;align-items: center;background-color: white;padding-right: 0.2em;padding-left: 0.2em;position: relative;}#sk-container-id-2 div.sk-item {position: relative;z-index: 1;}#sk-container-id-2 div.sk-parallel {display: flex;align-items: stretch;justify-content: center;background-color: white;position: relative;}#sk-container-id-2 div.sk-item::before, #sk-container-id-2 div.sk-parallel-item::before {content: \"\";position: absolute;border-left: 1px solid gray;box-sizing: border-box;top: 0;bottom: 0;left: 50%;z-index: -1;}#sk-container-id-2 div.sk-parallel-item {display: flex;flex-direction: column;z-index: 1;position: relative;background-color: white;}#sk-container-id-2 div.sk-parallel-item:first-child::after {align-self: flex-end;width: 50%;}#sk-container-id-2 div.sk-parallel-item:last-child::after {align-self: flex-start;width: 50%;}#sk-container-id-2 div.sk-parallel-item:only-child::after {width: 0;}#sk-container-id-2 div.sk-dashed-wrapped {border: 1px dashed gray;margin: 0 0.4em 0.5em 0.4em;box-sizing: border-box;padding-bottom: 0.4em;background-color: white;}#sk-container-id-2 div.sk-label label {font-family: monospace;font-weight: bold;display: inline-block;line-height: 1.2em;}#sk-container-id-2 div.sk-label-container {text-align: center;}#sk-container-id-2 div.sk-container {/* jupyter's `normalize.less` sets `[hidden] { display: none; }` but bootstrap.min.css set `[hidden] { display: none !important; }` so we also need the `!important` here to be able to override the default hidden behavior on the sphinx rendered scikit-learn.org. See: https://github.com/scikit-learn/scikit-learn/issues/21755 */display: inline-block !important;position: relative;}#sk-container-id-2 div.sk-text-repr-fallback {display: none;}</style><div id=\"sk-container-id-2\" class=\"sk-top-container\"><div class=\"sk-text-repr-fallback\"><pre>Pipeline(steps=[(&#x27;step1&#x27;,\n",
       "                 ColumnTransformer(remainder=&#x27;passthrough&#x27;,\n",
       "                                   transformers=[(&#x27;encoder&#x27;,\n",
       "                                                  OneHotEncoder(drop=&#x27;first&#x27;,\n",
       "                                                                handle_unknown=&#x27;ignore&#x27;,\n",
       "                                                                sparse=False),\n",
       "                                                  [0, 1, 2, 3, 4])])),\n",
       "                (&#x27;step2&#x27;,\n",
       "                 RandomForestRegressor(max_depth=15, max_features=0.75,\n",
       "                                       max_samples=0.5, random_state=3))])</pre><b>In a Jupyter environment, please rerun this cell to show the HTML representation or trust the notebook. <br />On GitHub, the HTML representation is unable to render, please try loading this page with nbviewer.org.</b></div><div class=\"sk-container\" hidden><div class=\"sk-item sk-dashed-wrapped\"><div class=\"sk-label-container\"><div class=\"sk-label sk-toggleable\"><input class=\"sk-toggleable__control sk-hidden--visually\" id=\"sk-estimator-id-8\" type=\"checkbox\" ><label for=\"sk-estimator-id-8\" class=\"sk-toggleable__label sk-toggleable__label-arrow\">Pipeline</label><div class=\"sk-toggleable__content\"><pre>Pipeline(steps=[(&#x27;step1&#x27;,\n",
       "                 ColumnTransformer(remainder=&#x27;passthrough&#x27;,\n",
       "                                   transformers=[(&#x27;encoder&#x27;,\n",
       "                                                  OneHotEncoder(drop=&#x27;first&#x27;,\n",
       "                                                                handle_unknown=&#x27;ignore&#x27;,\n",
       "                                                                sparse=False),\n",
       "                                                  [0, 1, 2, 3, 4])])),\n",
       "                (&#x27;step2&#x27;,\n",
       "                 RandomForestRegressor(max_depth=15, max_features=0.75,\n",
       "                                       max_samples=0.5, random_state=3))])</pre></div></div></div><div class=\"sk-serial\"><div class=\"sk-item sk-dashed-wrapped\"><div class=\"sk-label-container\"><div class=\"sk-label sk-toggleable\"><input class=\"sk-toggleable__control sk-hidden--visually\" id=\"sk-estimator-id-9\" type=\"checkbox\" ><label for=\"sk-estimator-id-9\" class=\"sk-toggleable__label sk-toggleable__label-arrow\">step1: ColumnTransformer</label><div class=\"sk-toggleable__content\"><pre>ColumnTransformer(remainder=&#x27;passthrough&#x27;,\n",
       "                  transformers=[(&#x27;encoder&#x27;,\n",
       "                                 OneHotEncoder(drop=&#x27;first&#x27;,\n",
       "                                               handle_unknown=&#x27;ignore&#x27;,\n",
       "                                               sparse=False),\n",
       "                                 [0, 1, 2, 3, 4])])</pre></div></div></div><div class=\"sk-parallel\"><div class=\"sk-parallel-item\"><div class=\"sk-item\"><div class=\"sk-label-container\"><div class=\"sk-label sk-toggleable\"><input class=\"sk-toggleable__control sk-hidden--visually\" id=\"sk-estimator-id-10\" type=\"checkbox\" ><label for=\"sk-estimator-id-10\" class=\"sk-toggleable__label sk-toggleable__label-arrow\">encoder</label><div class=\"sk-toggleable__content\"><pre>[0, 1, 2, 3, 4]</pre></div></div></div><div class=\"sk-serial\"><div class=\"sk-item\"><div class=\"sk-estimator sk-toggleable\"><input class=\"sk-toggleable__control sk-hidden--visually\" id=\"sk-estimator-id-11\" type=\"checkbox\" ><label for=\"sk-estimator-id-11\" class=\"sk-toggleable__label sk-toggleable__label-arrow\">OneHotEncoder</label><div class=\"sk-toggleable__content\"><pre>OneHotEncoder(drop=&#x27;first&#x27;, handle_unknown=&#x27;ignore&#x27;, sparse=False)</pre></div></div></div></div></div></div><div class=\"sk-parallel-item\"><div class=\"sk-item\"><div class=\"sk-label-container\"><div class=\"sk-label sk-toggleable\"><input class=\"sk-toggleable__control sk-hidden--visually\" id=\"sk-estimator-id-12\" type=\"checkbox\" ><label for=\"sk-estimator-id-12\" class=\"sk-toggleable__label sk-toggleable__label-arrow\">remainder</label><div class=\"sk-toggleable__content\"><pre>[]</pre></div></div></div><div class=\"sk-serial\"><div class=\"sk-item\"><div class=\"sk-estimator sk-toggleable\"><input class=\"sk-toggleable__control sk-hidden--visually\" id=\"sk-estimator-id-13\" type=\"checkbox\" ><label for=\"sk-estimator-id-13\" class=\"sk-toggleable__label sk-toggleable__label-arrow\">passthrough</label><div class=\"sk-toggleable__content\"><pre>passthrough</pre></div></div></div></div></div></div></div></div><div class=\"sk-item\"><div class=\"sk-estimator sk-toggleable\"><input class=\"sk-toggleable__control sk-hidden--visually\" id=\"sk-estimator-id-14\" type=\"checkbox\" ><label for=\"sk-estimator-id-14\" class=\"sk-toggleable__label sk-toggleable__label-arrow\">RandomForestRegressor</label><div class=\"sk-toggleable__content\"><pre>RandomForestRegressor(max_depth=15, max_features=0.75, max_samples=0.5,\n",
       "                      random_state=3)</pre></div></div></div></div></div></div></div>"
      ],
      "text/plain": [
       "Pipeline(steps=[('step1',\n",
       "                 ColumnTransformer(remainder='passthrough',\n",
       "                                   transformers=[('encoder',\n",
       "                                                  OneHotEncoder(drop='first',\n",
       "                                                                handle_unknown='ignore',\n",
       "                                                                sparse=False),\n",
       "                                                  [0, 1, 2, 3, 4])])),\n",
       "                ('step2',\n",
       "                 RandomForestRegressor(max_depth=15, max_features=0.75,\n",
       "                                       max_samples=0.5, random_state=3))])"
      ]
     },
     "execution_count": 37,
     "metadata": {},
     "output_type": "execute_result"
    }
   ],
   "source": [
    "pipe.fit(X_train,y_train)"
   ]
  },
  {
   "cell_type": "code",
   "execution_count": 38,
   "id": "9d111a97",
   "metadata": {},
   "outputs": [
    {
     "data": {
      "text/plain": [
       "(131,)"
      ]
     },
     "execution_count": 38,
     "metadata": {},
     "output_type": "execute_result"
    }
   ],
   "source": [
    "prediction = pipe.predict(X_test)\n",
    "prediction.shape"
   ]
  },
  {
   "cell_type": "code",
   "execution_count": 39,
   "id": "e1234201",
   "metadata": {},
   "outputs": [
    {
     "data": {
      "text/plain": [
       "array([10.80256039, 10.4803498 , 11.08246827, 10.82484895, 11.66572801,\n",
       "       11.32383768, 10.68298327, 10.93727539, 10.59779518, 10.94459246,\n",
       "       11.20667885, 11.1838179 , 11.59726492, 12.10960948, 10.52518869,\n",
       "       10.39286993, 10.47871768, 10.59779518, 11.02823779, 12.12076277,\n",
       "       10.56605331, 11.02912407, 11.45740857, 11.70413458, 10.53661584,\n",
       "       11.28567138, 11.51332068, 10.85058901, 10.64110695, 10.59779518,\n",
       "       11.45740857, 12.10960948, 10.56605331, 10.54753258, 10.27146247,\n",
       "       10.59779518, 10.47871768, 10.59779518, 10.93727539, 10.93001607,\n",
       "       11.45740857, 11.19933227, 10.71598873, 11.71651086, 10.86225096,\n",
       "       10.59779518, 10.4803498 , 11.93490336, 11.36964913, 12.10960948,\n",
       "       10.56605331, 12.13308873, 11.90885799, 12.10960948, 10.87242762,\n",
       "       10.4803498 , 10.68477194, 12.10960948, 12.10960948, 12.10960948,\n",
       "       11.45706412, 10.96540195, 10.82484895, 10.7803489 , 11.19921165,\n",
       "       11.5559814 , 10.85058901, 11.27351622, 11.29426998, 10.58634392,\n",
       "       10.59465362, 12.10960948, 10.6184484 , 10.52518869, 11.18953587,\n",
       "       10.52518869, 12.10960948, 12.10960948, 10.52518869, 12.10960948,\n",
       "       10.82484895, 12.49934685, 11.86480961, 10.58634392, 12.10960948,\n",
       "       11.50332948, 12.10960948, 12.10960948, 10.76070631, 10.4803498 ,\n",
       "       10.46011591, 11.45740857, 11.27781287, 10.29121034, 11.94706782,\n",
       "       11.23510767, 11.86480961, 11.77100309, 10.88298691, 11.19933227,\n",
       "       10.56605331, 10.4905088 , 10.9177072 , 10.5880537 , 12.10960948,\n",
       "       11.56103007, 10.59511598, 11.21267407, 10.92654078, 10.59779518,\n",
       "       11.68036937, 10.93727539, 11.25332647, 10.93727539, 11.45740857,\n",
       "       11.36964913, 11.79662055, 11.50332948, 10.94459246, 10.53538356,\n",
       "       11.18679966, 11.45740857, 10.52518869, 10.4803498 , 10.52518869,\n",
       "       11.11886929, 11.10821951, 10.52518869, 11.64441805, 10.58634392,\n",
       "       10.49883916])"
      ]
     },
     "execution_count": 39,
     "metadata": {},
     "output_type": "execute_result"
    }
   ],
   "source": [
    "prediction"
   ]
  },
  {
   "cell_type": "code",
   "execution_count": 40,
   "id": "07e3d196",
   "metadata": {},
   "outputs": [
    {
     "name": "stdout",
     "output_type": "stream",
     "text": [
      "0.88526286787485\n",
      "0.1361838620383786\n"
     ]
    }
   ],
   "source": [
    "from sklearn.metrics import r2_score,mean_absolute_error\n",
    "print(r2_score(y_test,prediction))\n",
    "print(mean_absolute_error(y_test,prediction))"
   ]
  },
  {
   "cell_type": "code",
   "execution_count": 41,
   "id": "7a1bade6",
   "metadata": {},
   "outputs": [],
   "source": [
    "Brands = 'HP'\n",
    "Processor = 'Core i3'\n",
    "RAM = '8'\n",
    "screensize = '35.56'\n",
    "storage = '1 TB'"
   ]
  },
  {
   "cell_type": "code",
   "execution_count": 42,
   "id": "5c190243",
   "metadata": {},
   "outputs": [],
   "source": [
    "query = np.array([ Brands, RAM,Processor, storage,screensize ])\n",
    "query = query.reshape(1,-1)"
   ]
  },
  {
   "cell_type": "code",
   "execution_count": 43,
   "id": "e7546480",
   "metadata": {},
   "outputs": [
    {
     "data": {
      "text/plain": [
       "array([94912.216517])"
      ]
     },
     "execution_count": 43,
     "metadata": {},
     "output_type": "execute_result"
    }
   ],
   "source": [
    "p = pipe.predict(query)\n",
    "np.exp(p)"
   ]
  },
  {
   "cell_type": "code",
   "execution_count": 44,
   "id": "2e7f01da",
   "metadata": {},
   "outputs": [],
   "source": [
    "df.to_csv(\"data.csv\", index=False)"
   ]
  },
  {
   "cell_type": "code",
   "execution_count": 45,
   "id": "0b6d108b",
   "metadata": {},
   "outputs": [],
   "source": [
    "data=pd.read_csv('data.csv')"
   ]
  },
  {
   "cell_type": "code",
   "execution_count": 46,
   "id": "d99d7f0e",
   "metadata": {},
   "outputs": [
    {
     "data": {
      "text/html": [
       "<div>\n",
       "<style scoped>\n",
       "    .dataframe tbody tr th:only-of-type {\n",
       "        vertical-align: middle;\n",
       "    }\n",
       "\n",
       "    .dataframe tbody tr th {\n",
       "        vertical-align: top;\n",
       "    }\n",
       "\n",
       "    .dataframe thead th {\n",
       "        text-align: right;\n",
       "    }\n",
       "</style>\n",
       "<table border=\"1\" class=\"dataframe\">\n",
       "  <thead>\n",
       "    <tr style=\"text-align: right;\">\n",
       "      <th></th>\n",
       "      <th>Brand</th>\n",
       "      <th>Processor</th>\n",
       "      <th>storage</th>\n",
       "      <th>RAM</th>\n",
       "      <th>screensize</th>\n",
       "      <th>os</th>\n",
       "      <th>Price</th>\n",
       "    </tr>\n",
       "  </thead>\n",
       "  <tbody>\n",
       "    <tr>\n",
       "      <th>0</th>\n",
       "      <td>Lenovo</td>\n",
       "      <td>Intel Core i3</td>\n",
       "      <td>256 GB</td>\n",
       "      <td>8 GB</td>\n",
       "      <td>35.56</td>\n",
       "      <td>Windows 11 Operating System</td>\n",
       "      <td>36990.0</td>\n",
       "    </tr>\n",
       "    <tr>\n",
       "      <th>1</th>\n",
       "      <td>Lenovo</td>\n",
       "      <td>Intel Core i3</td>\n",
       "      <td>512 GB</td>\n",
       "      <td>8 GB</td>\n",
       "      <td>39.62</td>\n",
       "      <td>Windows 11 Operating System</td>\n",
       "      <td>39990.0</td>\n",
       "    </tr>\n",
       "    <tr>\n",
       "      <th>2</th>\n",
       "      <td>ASUS</td>\n",
       "      <td>Intel Core i3</td>\n",
       "      <td>512 GB</td>\n",
       "      <td>8 GB</td>\n",
       "      <td>39.62</td>\n",
       "      <td>Windows 11 Operating System</td>\n",
       "      <td>32990.0</td>\n",
       "    </tr>\n",
       "    <tr>\n",
       "      <th>3</th>\n",
       "      <td>HP</td>\n",
       "      <td>5 Hexa Core</td>\n",
       "      <td>512 GB</td>\n",
       "      <td>8 GB</td>\n",
       "      <td>39.62</td>\n",
       "      <td>Windows 10 Operating System</td>\n",
       "      <td>49990.0</td>\n",
       "    </tr>\n",
       "    <tr>\n",
       "      <th>4</th>\n",
       "      <td>ASUS</td>\n",
       "      <td>Intel Core i5</td>\n",
       "      <td>512 GB</td>\n",
       "      <td>8 GB</td>\n",
       "      <td>39.62</td>\n",
       "      <td>Windows 11 Operating System</td>\n",
       "      <td>49990.0</td>\n",
       "    </tr>\n",
       "    <tr>\n",
       "      <th>...</th>\n",
       "      <td>...</td>\n",
       "      <td>...</td>\n",
       "      <td>...</td>\n",
       "      <td>...</td>\n",
       "      <td>...</td>\n",
       "      <td>...</td>\n",
       "      <td>...</td>\n",
       "    </tr>\n",
       "    <tr>\n",
       "      <th>647</th>\n",
       "      <td>DELL</td>\n",
       "      <td>Intel Core i5</td>\n",
       "      <td>512 GB</td>\n",
       "      <td>16 GB</td>\n",
       "      <td>33.78</td>\n",
       "      <td>Windows 11 Operating System</td>\n",
       "      <td>76590.0</td>\n",
       "    </tr>\n",
       "    <tr>\n",
       "      <th>648</th>\n",
       "      <td>HP</td>\n",
       "      <td>7 Octa Core</td>\n",
       "      <td>512 GB</td>\n",
       "      <td>16 GB</td>\n",
       "      <td>39.62</td>\n",
       "      <td>Windows 10 Operating System</td>\n",
       "      <td>90000.0</td>\n",
       "    </tr>\n",
       "    <tr>\n",
       "      <th>649</th>\n",
       "      <td>Lenovo</td>\n",
       "      <td>7 Octa Core</td>\n",
       "      <td>512 GB</td>\n",
       "      <td>8 GB</td>\n",
       "      <td>39.62</td>\n",
       "      <td>Windows 11 Operating System</td>\n",
       "      <td>73490.0</td>\n",
       "    </tr>\n",
       "    <tr>\n",
       "      <th>650</th>\n",
       "      <td>ASUS</td>\n",
       "      <td>9 Octa Core</td>\n",
       "      <td>1 TB</td>\n",
       "      <td>16 GB</td>\n",
       "      <td>39.62</td>\n",
       "      <td>Windows 11 Operating System</td>\n",
       "      <td>194990.0</td>\n",
       "    </tr>\n",
       "    <tr>\n",
       "      <th>651</th>\n",
       "      <td>ASUS</td>\n",
       "      <td>Intel Core i7</td>\n",
       "      <td>512 GB</td>\n",
       "      <td>16 GB</td>\n",
       "      <td>35.56</td>\n",
       "      <td>Windows 11 Operating System</td>\n",
       "      <td>125990.0</td>\n",
       "    </tr>\n",
       "  </tbody>\n",
       "</table>\n",
       "<p>652 rows × 7 columns</p>\n",
       "</div>"
      ],
      "text/plain": [
       "      Brand      Processor storage    RAM  screensize  \\\n",
       "0    Lenovo  Intel Core i3  256 GB   8 GB       35.56   \n",
       "1    Lenovo  Intel Core i3  512 GB   8 GB       39.62   \n",
       "2      ASUS  Intel Core i3  512 GB   8 GB       39.62   \n",
       "3        HP    5 Hexa Core  512 GB   8 GB       39.62   \n",
       "4      ASUS  Intel Core i5  512 GB   8 GB       39.62   \n",
       "..      ...            ...     ...    ...         ...   \n",
       "647    DELL  Intel Core i5  512 GB  16 GB       33.78   \n",
       "648      HP    7 Octa Core  512 GB  16 GB       39.62   \n",
       "649  Lenovo    7 Octa Core  512 GB   8 GB       39.62   \n",
       "650    ASUS    9 Octa Core    1 TB  16 GB       39.62   \n",
       "651    ASUS  Intel Core i7  512 GB  16 GB       35.56   \n",
       "\n",
       "                              os     Price  \n",
       "0    Windows 11 Operating System   36990.0  \n",
       "1    Windows 11 Operating System   39990.0  \n",
       "2    Windows 11 Operating System   32990.0  \n",
       "3    Windows 10 Operating System   49990.0  \n",
       "4    Windows 11 Operating System   49990.0  \n",
       "..                           ...       ...  \n",
       "647  Windows 11 Operating System   76590.0  \n",
       "648  Windows 10 Operating System   90000.0  \n",
       "649  Windows 11 Operating System   73490.0  \n",
       "650  Windows 11 Operating System  194990.0  \n",
       "651  Windows 11 Operating System  125990.0  \n",
       "\n",
       "[652 rows x 7 columns]"
      ]
     },
     "execution_count": 46,
     "metadata": {},
     "output_type": "execute_result"
    }
   ],
   "source": [
    "data"
   ]
  },
  {
   "cell_type": "code",
   "execution_count": 47,
   "id": "9f770b73",
   "metadata": {},
   "outputs": [],
   "source": [
    "# import pickle"
   ]
  },
  {
   "cell_type": "code",
   "execution_count": null,
   "id": "0c90cc6a",
   "metadata": {},
   "outputs": [],
   "source": [
    "# pickle.dump(data, open('data.pkl', 'wb'))\n",
    "# pickle.dump(pipe,open('model2.pkl','wb'))"
   ]
  },
  {
   "cell_type": "code",
   "execution_count": 48,
   "id": "411124bb",
   "metadata": {},
   "outputs": [],
   "source": [
    "import joblib"
   ]
  },
  {
   "cell_type": "code",
   "execution_count": 49,
   "id": "b0b77824",
   "metadata": {},
   "outputs": [
    {
     "data": {
      "text/plain": [
       "['C:\\\\Users\\\\Venkatesham\\\\Desktop\\\\internship_2023\\\\price prediction\\\\model.joblib']"
      ]
     },
     "execution_count": 49,
     "metadata": {},
     "output_type": "execute_result"
    }
   ],
   "source": [
    "joblib.dump(pipe,r\"C:\\Users\\Venkatesham\\Desktop\\internship_2023\\price prediction\\model.joblib\")"
   ]
  },
  {
   "cell_type": "code",
   "execution_count": 50,
   "id": "072263ec",
   "metadata": {},
   "outputs": [
    {
     "data": {
      "text/plain": [
       "['C:\\\\Users\\\\Venkatesham\\\\Desktop\\\\internship_2023\\\\price prediction\\\\model1.joblib']"
      ]
     },
     "execution_count": 50,
     "metadata": {},
     "output_type": "execute_result"
    }
   ],
   "source": [
    "joblib.dump(data,r\"C:\\Users\\Venkatesham\\Desktop\\internship_2023\\price prediction\\model1.joblib\")"
   ]
  },
  {
   "cell_type": "code",
   "execution_count": 52,
   "id": "abbf3b0e",
   "metadata": {},
   "outputs": [
    {
     "data": {
      "text/plain": [
       "0      35.56\n",
       "1      39.62\n",
       "2      39.62\n",
       "3      39.62\n",
       "4      39.62\n",
       "       ...  \n",
       "647    33.78\n",
       "648    39.62\n",
       "649    39.62\n",
       "650    39.62\n",
       "651    35.56\n",
       "Name: screensize, Length: 652, dtype: float64"
      ]
     },
     "execution_count": 52,
     "metadata": {},
     "output_type": "execute_result"
    }
   ],
   "source": [
    "data.screensize"
   ]
  },
  {
   "cell_type": "code",
   "execution_count": null,
   "id": "f81976b3",
   "metadata": {},
   "outputs": [],
   "source": [
    "df1= data[['Brand','Processor','RAM','storage','os','screensize','Price']]"
   ]
  },
  {
   "cell_type": "code",
   "execution_count": null,
   "id": "1a66a255",
   "metadata": {},
   "outputs": [],
   "source": []
  }
 ],
 "metadata": {
  "kernelspec": {
   "display_name": "Python 3 (ipykernel)",
   "language": "python",
   "name": "python3"
  },
  "language_info": {
   "codemirror_mode": {
    "name": "ipython",
    "version": 3
   },
   "file_extension": ".py",
   "mimetype": "text/x-python",
   "name": "python",
   "nbconvert_exporter": "python",
   "pygments_lexer": "ipython3",
   "version": "3.9.12"
  }
 },
 "nbformat": 4,
 "nbformat_minor": 5
}
